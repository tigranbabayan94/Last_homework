{
 "cells": [
  {
   "cell_type": "markdown",
   "metadata": {},
   "source": [
    "Exercise 1"
   ]
  },
  {
   "cell_type": "code",
   "execution_count": 1,
   "metadata": {
    "collapsed": true
   },
   "outputs": [],
   "source": [
    "from selenium import webdriver\n",
    "from selenium.webdriver.support.ui import Select\n",
    "import pandas as pd\n",
    "from unicodecsv import*\n",
    "from time import*\n",
    "import csv"
   ]
  },
  {
   "cell_type": "code",
   "execution_count": 4,
   "metadata": {
    "collapsed": true
   },
   "outputs": [],
   "source": [
    "url = \"http://rate.am/en/armenian-dram-exchange-rates/banks/non-cash\"\n",
    "driver = webdriver.Chrome()\n",
    "driver.get(url)"
   ]
  },
  {
   "cell_type": "code",
   "execution_count": 5,
   "metadata": {},
   "outputs": [],
   "source": [
    "big_data=driver.find_element_by_xpath('//*[@id=\"aspnetForm\"]/div[3]/div[2]/div[1]/div[4]/div[3]/table/tbody/tr/td[1]/a')\n",
    "big_data.click()"
   ]
  },
  {
   "cell_type": "code",
   "execution_count": 6,
   "metadata": {
    "collapsed": true
   },
   "outputs": [],
   "source": [
    "years = driver.find_element_by_xpath('//*[@id=\"calBorder\"]/span/table/tbody/tr[1]/td/table/tbody/tr/td[2]/select')\n",
    "select_year = Select(years)\n",
    "select_year.select_by_visible_text('2016')"
   ]
  },
  {
   "cell_type": "code",
   "execution_count": 7,
   "metadata": {
    "collapsed": true
   },
   "outputs": [],
   "source": [
    "months = driver.find_element_by_xpath('//*[@id=\"calBorder\"]/span/table/tbody/tr[1]/td/table/tbody/tr/td[1]/select')\n",
    "select_month = Select(months)\n",
    "select_month.select_by_visible_text('July')"
   ]
  },
  {
   "cell_type": "code",
   "execution_count": 8,
   "metadata": {
    "collapsed": true
   },
   "outputs": [],
   "source": [
    "july_20=driver.find_element_by_xpath('//*[@id=\"calBorder\"]/span/table/tbody/tr[3]/td/table/tbody/tr[5]/td[3]')\n",
    "july_20.click()"
   ]
  },
  {
   "cell_type": "code",
   "execution_count": 9,
   "metadata": {
    "collapsed": true
   },
   "outputs": [],
   "source": [
    "show=driver.find_element_by_xpath('//*[@id=\"ctl00_Content_RB_dtpick1_btnOk\"]')\n",
    "show.click()"
   ]
  },
  {
   "cell_type": "code",
   "execution_count": 10,
   "metadata": {
    "collapsed": true
   },
   "outputs": [],
   "source": [
    "output = pd.read_html(driver.find_element_by_class_name(\"rb\").get_attribute('outerHTML'))\n",
    "output = output[0]\n",
    "output = output[2:19]\n",
    "del output[0]\n",
    "del output[2]\n",
    "del output[3]\n",
    "output.columns = [\"name\", \"date\", \"USD_buy\", \"USD_sell\", \"EUR_buy\", \"EUR_sell\", \"RUB_buy\", \"RUB_sell\", \"GBP_buy\", \"GBP_sell\"]"
   ]
  },
  {
   "cell_type": "code",
   "execution_count": 11,
   "metadata": {
    "collapsed": true
   },
   "outputs": [],
   "source": [
    "with open('rates_am.csv', 'w') as f:\n",
    "            output.to_csv(f, header=True, index=False, encoding='utf-8')"
   ]
  },
  {
   "cell_type": "markdown",
   "metadata": {},
   "source": [
    "Exercise 2"
   ]
  },
  {
   "cell_type": "code",
   "execution_count": 14,
   "metadata": {
    "collapsed": true
   },
   "outputs": [],
   "source": [
    "from BeautifulSoup import * \n",
    "import requests\n",
    "import re"
   ]
  },
  {
   "cell_type": "code",
   "execution_count": 19,
   "metadata": {
    "collapsed": true
   },
   "outputs": [],
   "source": [
    "url_1 = \"https://staff.am/en\"\n",
    "driver = webdriver.Chrome()\n",
    "driver.get(url_1)"
   ]
  },
  {
   "cell_type": "code",
   "execution_count": 20,
   "metadata": {},
   "outputs": [],
   "source": [
    "trainings=driver.find_element_by_xpath('//*[@id=\"menu-header\"]/li[2]/a')\n",
    "trainings.click()\n",
    "soup_1 = driver.page_source"
   ]
  },
  {
   "cell_type": "code",
   "execution_count": 21,
   "metadata": {
    "collapsed": true
   },
   "outputs": [],
   "source": [
    "page_2 = driver.find_element_by_xpath('//*[@id=\"job-list-pagination\"]/ul/li[3]/a')\n",
    "page_2.click()\n",
    "soup_2=driver.page_source\n",
    "page_3 = driver.find_element_by_xpath('//*[@id=\"job-list-pagination\"]/ul/li[4]/a')\n",
    "page_3.click()\n",
    "soup_3=driver.page_source\n",
    "driver.close()"
   ]
  },
  {
   "cell_type": "code",
   "execution_count": 22,
   "metadata": {
    "collapsed": true
   },
   "outputs": [],
   "source": [
    "train=[]\n",
    "all_soups=[soup_1,soup_2,soup_3]\n",
    "for i in all_soups:\n",
    "    soup = BeautifulSoup(i)\n",
    "    titles=soup.findAll('div',attrs={'class':\"job-inner training-item-title\"})    \n",
    "    for i in titles:\n",
    "        if i.find('span')==None:\n",
    "            train.append(i.find('h4').text +\" - \" +i.find('p').text + \"- \"+ \"0 AMD\")\n",
    "        else:\n",
    "            train.append(i.find('h4').text +\" - \" +i.find('p').text + \"- \"+ i.find('span').text + \" AMD\")\n",
    "    "
   ]
  },
  {
   "cell_type": "code",
   "execution_count": 27,
   "metadata": {},
   "outputs": [],
   "source": [
    "string_train=str(train)\n",
    "substitution=re.sub(r',', r'',string_train)\n",
    "findall=re.findall('-\\s([0-9]+)',substitution)"
   ]
  },
  {
   "cell_type": "code",
   "execution_count": 25,
   "metadata": {
    "collapsed": true
   },
   "outputs": [],
   "source": [
    "price=[]\n",
    "for i in findall:\n",
    "    price.append(int(i))"
   ]
  },
  {
   "cell_type": "code",
   "execution_count": 26,
   "metadata": {},
   "outputs": [
    {
     "name": "stdout",
     "output_type": "stream",
     "text": [
      "34795\n"
     ]
    }
   ],
   "source": [
    "average_price=sum(price)/len(price)\n",
    "print average_price"
   ]
  },
  {
   "cell_type": "markdown",
   "metadata": {},
   "source": [
    "Exercise 3"
   ]
  },
  {
   "cell_type": "code",
   "execution_count": 32,
   "metadata": {
    "collapsed": true
   },
   "outputs": [],
   "source": [
    "url_3 = \"https://www.cba.am/EN/SitePages/Default.aspx\"\n",
    "driver = webdriver.Chrome()\n",
    "driver.get(url_3)"
   ]
  },
  {
   "cell_type": "code",
   "execution_count": 33,
   "metadata": {},
   "outputs": [
    {
     "name": "stdout",
     "output_type": "stream",
     "text": [
      "\n"
     ]
    }
   ],
   "source": [
    "Dollar=driver.find_element_by_xpath('//*[@id=\"ctl00_PlaceHolderMain_g_863d4f31_7343_4804_bedb_aa7f55c1305a_updatePanelctl00_PlaceHolderMain_g_863d4f31_7343_4804_bedb_aa7f55c1305a\"]/li[1]/em[3]')"
   ]
  },
  {
   "cell_type": "code",
   "execution_count": 34,
   "metadata": {},
   "outputs": [
    {
     "name": "stdout",
     "output_type": "stream",
     "text": [
      "478.85\n"
     ]
    }
   ],
   "source": [
    "print(Dollar.text)"
   ]
  }
 ],
 "metadata": {
  "kernelspec": {
   "display_name": "Python 2",
   "language": "python",
   "name": "python2"
  },
  "language_info": {
   "codemirror_mode": {
    "name": "ipython",
    "version": 2
   },
   "file_extension": ".py",
   "mimetype": "text/x-python",
   "name": "python",
   "nbconvert_exporter": "python",
   "pygments_lexer": "ipython2",
   "version": "2.7.13"
  }
 },
 "nbformat": 4,
 "nbformat_minor": 2
}
